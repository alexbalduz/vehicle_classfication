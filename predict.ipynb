{
 "cells": [
  {
   "cell_type": "code",
   "execution_count": 1,
   "id": "7e4b8cf9-c12e-41a7-af8f-a786524d9bc2",
   "metadata": {},
   "outputs": [
    {
     "name": "stdout",
     "output_type": "stream",
     "text": [
      "\u001b[33mWARNING: Ignoring invalid distribution -irtualenv-clone (/Users/alex/opt/anaconda3/lib/python3.8/site-packages)\u001b[0m\u001b[33m\n",
      "\u001b[0m\u001b[33mWARNING: Ignoring invalid distribution - (/Users/alex/opt/anaconda3/lib/python3.8/site-packages)\u001b[0m\u001b[33m\n",
      "\u001b[0m\u001b[33mWARNING: Ignoring invalid distribution -irtualenv-clone (/Users/alex/opt/anaconda3/lib/python3.8/site-packages)\u001b[0m\u001b[33m\n",
      "\u001b[0m\u001b[33mWARNING: Ignoring invalid distribution - (/Users/alex/opt/anaconda3/lib/python3.8/site-packages)\u001b[0m\u001b[33m\n",
      "\u001b[0mRequirement already satisfied: pymongo in /Users/alex/opt/anaconda3/lib/python3.8/site-packages (4.2.0)\n",
      "\u001b[33mWARNING: Ignoring invalid distribution -irtualenv-clone (/Users/alex/opt/anaconda3/lib/python3.8/site-packages)\u001b[0m\u001b[33m\n",
      "\u001b[0m\u001b[33mWARNING: Ignoring invalid distribution - (/Users/alex/opt/anaconda3/lib/python3.8/site-packages)\u001b[0m\u001b[33m\n",
      "\u001b[0m\u001b[33mWARNING: Ignoring invalid distribution -irtualenv-clone (/Users/alex/opt/anaconda3/lib/python3.8/site-packages)\u001b[0m\u001b[33m\n",
      "\u001b[0m\u001b[33mWARNING: Ignoring invalid distribution - (/Users/alex/opt/anaconda3/lib/python3.8/site-packages)\u001b[0m\u001b[33m\n",
      "\u001b[0m\u001b[33mWARNING: Ignoring invalid distribution -irtualenv-clone (/Users/alex/opt/anaconda3/lib/python3.8/site-packages)\u001b[0m\u001b[33m\n",
      "\u001b[0m\u001b[33mWARNING: Ignoring invalid distribution - (/Users/alex/opt/anaconda3/lib/python3.8/site-packages)\u001b[0m\u001b[33m\n",
      "\u001b[0m\u001b[33mWARNING: Ignoring invalid distribution -irtualenv-clone (/Users/alex/opt/anaconda3/lib/python3.8/site-packages)\u001b[0m\u001b[33m\n",
      "\u001b[0m\u001b[33mWARNING: Ignoring invalid distribution - (/Users/alex/opt/anaconda3/lib/python3.8/site-packages)\u001b[0m\u001b[33m\n",
      "\u001b[0m\n",
      "\u001b[1m[\u001b[0m\u001b[34;49mnotice\u001b[0m\u001b[1;39;49m]\u001b[0m\u001b[39;49m A new release of pip available: \u001b[0m\u001b[31;49m22.3.1\u001b[0m\u001b[39;49m -> \u001b[0m\u001b[32;49m23.0.1\u001b[0m\n",
      "\u001b[1m[\u001b[0m\u001b[34;49mnotice\u001b[0m\u001b[1;39;49m]\u001b[0m\u001b[39;49m To update, run: \u001b[0m\u001b[32;49mpip install --upgrade pip\u001b[0m\n"
     ]
    }
   ],
   "source": [
    "!pip3 install pymongo"
   ]
  },
  {
   "cell_type": "code",
   "execution_count": 8,
   "id": "d23ad24a-fec4-4fe2-801f-c7ea34b5848f",
   "metadata": {},
   "outputs": [],
   "source": [
    "from torchvision import transforms\n",
    "import torchvision\n",
    "import torch\n",
    "import torch.nn as nn\n",
    "import glob\n",
    "import cv2\n",
    "from numpy import argmax\n",
    "from pymongo import MongoClient"
   ]
  },
  {
   "cell_type": "code",
   "execution_count": 9,
   "id": "3e8dde82-282f-4ef4-9a6b-3cf17885c40f",
   "metadata": {},
   "outputs": [],
   "source": [
    "try:\n",
    "    # Conectar a la db, host y puerto\n",
    "    conn = MongoClient(host='localhost', port=27017)\n",
    "    # Obtener base de datos\n",
    "    db = conn.local\n",
    "except:\n",
    "    pass"
   ]
  },
  {
   "cell_type": "code",
   "execution_count": 10,
   "id": "a0f4383a-abe0-49dc-ae4a-9960ff7be533",
   "metadata": {},
   "outputs": [],
   "source": [
    "# Definir modelo\n",
    "class scratch_nn(nn.Module):\n",
    "    def __init__(self):\n",
    "        super().__init__()\n",
    "        self.conv1 = nn.Conv2d(in_channels=3, out_channels=100, kernel_size=5, stride=1, padding=0)\n",
    "        self.conv2 = nn.Conv2d(100, 200, 3, stride=1, padding=0)\n",
    "        self.conv3 = nn.Conv2d(200, 400, 3, stride=1, padding=0)\n",
    "        self.mpool = nn.MaxPool2d(kernel_size=3)\n",
    "        self.relu = nn.ReLU()\n",
    "        self.linear1 = nn.Linear(19600,1024)\n",
    "        self.linear2 = nn.Linear(1024,512)\n",
    "        self.linear3 = nn.Linear(512,7)\n",
    "        self.classifier = nn.Softmax(dim=1)\n",
    "        \n",
    "    def forward(self,x):\n",
    "        x = self.mpool( self.relu(self.conv1(x)) )\n",
    "        x = self.mpool( self.relu(self.conv2(x)) )\n",
    "        x = self.mpool( self.relu(self.conv3(x)) )\n",
    "        x = torch.flatten(x, start_dim=1)\n",
    "        x = self.linear1(x)\n",
    "        x = self.linear2(x)\n",
    "        x = self.linear3(x)\n",
    "        x = self.classifier(x)\n",
    "        return x"
   ]
  },
  {
   "cell_type": "code",
   "execution_count": 11,
   "id": "ae4b7c5c-c003-4070-b06e-9414fcc08046",
   "metadata": {},
   "outputs": [],
   "source": [
    "# Cargar modelo entrenado\n",
    "device = torch.device(\"cuda\" if torch.cuda.is_available() else \"cpu\")\n",
    "model = scratch_nn()\n",
    "model.load_state_dict(torch.load(\"vehicles_model.pth\", map_location=torch.device('cpu')))\n",
    "model.eval()\n",
    "model = model.to(device)"
   ]
  },
  {
   "cell_type": "code",
   "execution_count": 12,
   "id": "a8b5fb38-5cd3-4c91-b39e-55b12eafb08d",
   "metadata": {},
   "outputs": [],
   "source": [
    "# Definir preprocesados de la imagen\n",
    "data_transform = transforms.Compose([\n",
    "    transforms.ToTensor(),\n",
    "    transforms.Resize((224, 224),antialias=None),\n",
    "])"
   ]
  },
  {
   "cell_type": "code",
   "execution_count": 13,
   "id": "cf3c0820-a9cf-4c82-9b57-b875b07f8676",
   "metadata": {},
   "outputs": [],
   "source": [
    "import math\n",
    "def selection(url):\n",
    "    label=open(url, 'r').read()\n",
    "    array=label.split(\"\\n\")\n",
    "    array.pop()\n",
    "    dist=100\n",
    "    for coord in array:\n",
    "        coord=coord.split(\" \")\n",
    "        distaux=math.sqrt((0.5-float(coord[1]))**2+(0.5-float(coord[2]))**2)\n",
    "        if distaux<dist:\n",
    "            dist=distaux\n",
    "            eleccion=coord\n",
    "    return int(eleccion[0])"
   ]
  },
  {
   "cell_type": "code",
   "execution_count": 14,
   "id": "2f51d0bf-b7ff-46dd-aa8a-0cf1bb6e9ad8",
   "metadata": {},
   "outputs": [
    {
     "name": "stdout",
     "output_type": "stream",
     "text": [
      "Aciertos:  217\n",
      "Casi aciertos:  45\n",
      "Fallos:  205\n"
     ]
    }
   ],
   "source": [
    "# Realizar la prediccion de todas las imagenes en la carpeta\n",
    "aciertos=0\n",
    "casiaciertos=0\n",
    "fallos=0\n",
    "for image_path in glob.glob(\"test/images/*.jpg\"):\n",
    "    img_orig = cv2.imread(image_path)\n",
    "    img = data_transform(img_orig).unsqueeze(0).to(device)\n",
    "    outputs = model(img)\n",
    "    outputs = outputs.detach().cpu().numpy()\n",
    "    output = argmax(outputs, axis=1)[0]\n",
    "    label_path=image_path.replace('images','labels').replace(\".jpg\",\".txt\")\n",
    "    label=int(selection(label_path))\n",
    "    outputs2=outputs.tolist()\n",
    "    outputs2[0].pop(output)\n",
    "    output2=argmax(outputs2, axis=1)[0]\n",
    "    if int(output)==label:\n",
    "        aciertos+=1\n",
    "    elif int(output2)==label:\n",
    "        casiaciertos+=1\n",
    "    else:\n",
    "        fallos+=1\n",
    "        \n",
    "print(\"Aciertos: \",aciertos)\n",
    "print(\"Casi aciertos: \",casiaciertos)\n",
    "print(\"Fallos: \",fallos)"
   ]
  },
  {
   "cell_type": "code",
   "execution_count": null,
   "id": "8c38b5be-72b4-46c5-a068-c71f21847e71",
   "metadata": {},
   "outputs": [],
   "source": []
  }
 ],
 "metadata": {
  "kernelspec": {
   "display_name": "Python 3",
   "language": "python",
   "name": "python3"
  },
  "language_info": {
   "codemirror_mode": {
    "name": "ipython",
    "version": 3
   },
   "file_extension": ".py",
   "mimetype": "text/x-python",
   "name": "python",
   "nbconvert_exporter": "python",
   "pygments_lexer": "ipython3",
   "version": "3.8.8"
  }
 },
 "nbformat": 4,
 "nbformat_minor": 5
}
